{
  "nbformat": 4,
  "nbformat_minor": 0,
  "metadata": {
    "colab": {
      "provenance": [],
      "include_colab_link": true
    },
    "kernelspec": {
      "name": "python3",
      "display_name": "Python 3"
    },
    "language_info": {
      "name": "python"
    }
  },
  "cells": [
    {
      "cell_type": "markdown",
      "metadata": {
        "id": "view-in-github",
        "colab_type": "text"
      },
      "source": [
        "<a href=\"https://colab.research.google.com/github/Valeri22222/UNN/blob/main/%D0%B5.ipynb\" target=\"_parent\"><img src=\"https://colab.research.google.com/assets/colab-badge.svg\" alt=\"Open In Colab\"/></a>"
      ]
    },
    {
      "cell_type": "code",
      "execution_count": null,
      "metadata": {
        "colab": {
          "base_uri": "https://localhost:8080/",
          "height": 317
        },
        "id": "0kNyjXECJbD4",
        "outputId": "4b31abf5-a2f5-4f0c-df1a-ffac83bc5a1e"
      },
      "outputs": [
        {
          "output_type": "display_data",
          "data": {
            "text/plain": [
              "<Figure size 432x288 with 1 Axes>"
            ],
            "image/png": "[encoded data removed]"
          },
          "metadata": {
            "needs_background": "light"
          }
        }
      ],
      "source": [
        "import matplotlib.pyplot as plt\n",
        "import numpy as np\n",
        "import pandas as pd\n",
        "import math\n",
        "import scipy\n",
        "import seaborn as sns\n",
        "\n",
        "from numpy import mean, ptp, var, std\n",
        "from sklearn.linear_model import LinearRegression\n",
        "\n",
        "dataX = np.array([9, 9.7, 10.2, 10.4, 10.2, 10.3, 11.3, 12, 12.3, 12.5, 12.6, 13.3, 13.2, 13.3, 13.3, 12.9, 11.5, 10.9, 10.1, 9.8])\n",
        "dataY = np.array([-6.6, -6.5, -6.2, -5.5, -5.9, -4.8, -3.3, -2.5, -1.8, -1.7, -0.9, 0, 0.2, 0.2, 0.3, -0.01, -0.9, -1.6, -2.2, -4.8])\n",
        "\n",
        "\n",
        "plt.scatter(dataX, dataY)\n",
        "plt.xlabel('родивщихся на 1000 чeловек насления (х)')\n",
        "plt.ylabel('естественный прирост на 1000 человек населения (у)')\n",
        "plt.show()"
      ]
    },
    {
      "cell_type": "code",
      "source": [
        "data = np.vstack((dataX, dataY))\n",
        "df = pd.DataFrame(data)\n",
        "\n",
        "df.head()"
      ],
      "metadata": {
        "colab": {
          "base_uri": "https://localhost:8080/",
          "height": 112
        },
        "id": "_7BqNap2KD-e",
        "outputId": "b2310844-c777-4b38-fb8e-6565c43977bb"
      },
      "execution_count": null,
      "outputs": [
        {
          "output_type": "execute_result",
          "data": {
            "text/plain": [
              "    0    1     2     3     4     5     6     7     8     9     10    11    12  \\\n",
              "0  9.0  9.7  10.2  10.4  10.2  10.3  11.3  12.0  12.3  12.5  12.6  13.3  13.2   \n",
              "1 -6.6 -6.5  -6.2  -5.5  -5.9  -4.8  -3.3  -2.5  -1.8  -1.7  -0.9   0.0   0.2   \n",
              "\n",
              "     13    14     15    16    17    18   19  \n",
              "0  13.3  13.3  12.90  11.5  10.9  10.1  9.8  \n",
              "1   0.2   0.3  -0.01  -0.9  -1.6  -2.2 -4.8  "
            ],
            "text/html": [
              "\n",
              "  <div id=\"df-b2fd44f4-2fd3-4405-828b-2fb08f9293be\">\n",
              "    <div class=\"colab-df-container\">\n",
              "      <div>\n",
              "<style scoped>\n",
              "    .dataframe tbody tr th:only-of-type {\n",
              "        vertical-align: middle;\n",
              "    }\n",
              "\n",
              "    .dataframe tbody tr th {\n",
              "        vertical-align: top;\n",
              "    }\n",
              "\n",
              "    .dataframe thead th {\n",
              "        text-align: right;\n",
              "    }\n",
              "</style>\n",
              "<table border=\"1\" class=\"dataframe\">\n",
              "  <thead>\n",
              "    <tr style=\"text-align: right;\">\n",
              "      <th></th>\n",
              "      <th>0</th>\n",
              "      <th>1</th>\n",
              "      <th>2</th>\n",
              "      <th>3</th>\n",
              "      <th>4</th>\n",
              "      <th>5</th>\n",
              "      <th>6</th>\n",
              "      <th>7</th>\n",
              "      <th>8</th>\n",
              "      <th>9</th>\n",
              "      <th>10</th>\n",
              "      <th>11</th>\n",
              "      <th>12</th>\n",
              "      <th>13</th>\n",
              "      <th>14</th>\n",
              "      <th>15</th>\n",
              "      <th>16</th>\n",
              "      <th>17</th>\n",
              "      <th>18</th>\n",
              "      <th>19</th>\n",
              "    </tr>\n",
              "  </thead>\n",
              "  <tbody>\n",
              "    <tr>\n",
              "      <th>0</th>\n",
              "      <td>9.0</td>\n",
              "      <td>9.7</td>\n",
              "      <td>10.2</td>\n",
              "      <td>10.4</td>\n",
              "      <td>10.2</td>\n",
              "      <td>10.3</td>\n",
              "      <td>11.3</td>\n",
              "      <td>12.0</td>\n",
              "      <td>12.3</td>\n",
              "      <td>12.5</td>\n",
              "      <td>12.6</td>\n",
              "      <td>13.3</td>\n",
              "      <td>13.2</td>\n",
              "      <td>13.3</td>\n",
              "      <td>13.3</td>\n",
              "      <td>12.90</td>\n",
              "      <td>11.5</td>\n",
              "      <td>10.9</td>\n",
              "      <td>10.1</td>\n",
              "      <td>9.8</td>\n",
              "    </tr>\n",
              "    <tr>\n",
              "      <th>1</th>\n",
              "      <td>-6.6</td>\n",
              "      <td>-6.5</td>\n",
              "      <td>-6.2</td>\n",
              "      <td>-5.5</td>\n",
              "      <td>-5.9</td>\n",
              "      <td>-4.8</td>\n",
              "      <td>-3.3</td>\n",
              "      <td>-2.5</td>\n",
              "      <td>-1.8</td>\n",
              "      <td>-1.7</td>\n",
              "      <td>-0.9</td>\n",
              "      <td>0.0</td>\n",
              "      <td>0.2</td>\n",
              "      <td>0.2</td>\n",
              "      <td>0.3</td>\n",
              "      <td>-0.01</td>\n",
              "      <td>-0.9</td>\n",
              "      <td>-1.6</td>\n",
              "      <td>-2.2</td>\n",
              "      <td>-4.8</td>\n",
              "    </tr>\n",
              "  </tbody>\n",
              "</table>\n",
              "</div>\n",
              "      <button class=\"colab-df-convert\" onclick=\"convertToInteractive('df-b2fd44f4-2fd3-4405-828b-2fb08f9293be')\"\n",
              "              title=\"Convert this dataframe to an interactive table.\"\n",
              "              style=\"display:none;\">\n",
              "        \n",
              "  <svg xmlns=\"http://www.w3.org/2000/svg\" height=\"24px\"viewBox=\"0 0 24 24\"\n",
              "       width=\"24px\">\n",
              "    <path d=\"M0 0h24v24H0V0z\" fill=\"none\"/>\n",
              "    <path d=\"M18.56 5.44l.94 2.06.94-2.06 2.06-.94-2.06-.94-.94-2.06-.94 2.06-2.06.94zm-11 1L8.5 8.5l.94-2.06 2.06-.94-2.06-.94L8.5 2.5l-.94 2.06-2.06.94zm10 10l.94 2.06.94-2.06 2.06-.94-2.06-.94-.94-2.06-.94 2.06-2.06.94z\"/><path d=\"M17.41 7.96l-1.37-1.37c-.4-.4-.92-.59-1.43-.59-.52 0-1.04.2-1.43.59L10.3 9.45l-7.72 7.72c-.78.78-.78 2.05 0 2.83L4 21.41c.39.39.9.59 1.41.59.51 0 1.02-.2 1.41-.59l7.78-7.78 2.81-2.81c.8-.78.8-2.07 0-2.86zM5.41 20L4 18.59l7.72-7.72 1.47 1.35L5.41 20z\"/>\n",
              "  </svg>\n",
              "      </button>\n",
              "      \n",
              "  <style>\n",
              "    .colab-df-container {\n",
              "      display:flex;\n",
              "      flex-wrap:wrap;\n",
              "      gap: 12px;\n",
              "    }\n",
              "\n",
              "    .colab-df-convert {\n",
              "      background-color: #E8F0FE;\n",
              "      border: none;\n",
              "      border-radius: 50%;\n",
              "      cursor: pointer;\n",
              "      display: none;\n",
              "      fill: #1967D2;\n",
              "      height: 32px;\n",
              "      padding: 0 0 0 0;\n",
              "      width: 32px;\n",
              "    }\n",
              "\n",
              "    .colab-df-convert:hover {\n",
              "      background-color: #E2EBFA;\n",
              "      box-shadow: 0px 1px 2px rgba(60, 64, 67, 0.3), 0px 1px 3px 1px rgba(60, 64, 67, 0.15);\n",
              "      fill: #174EA6;\n",
              "    }\n",
              "\n",
              "    [theme=dark] .colab-df-convert {\n",
              "      background-color: #3B4455;\n",
              "      fill: #D2E3FC;\n",
              "    }\n",
              "\n",
              "    [theme=dark] .colab-df-convert:hover {\n",
              "      background-color: #434B5C;\n",
              "      box-shadow: 0px 1px 3px 1px rgba(0, 0, 0, 0.15);\n",
              "      filter: drop-shadow(0px 1px 2px rgba(0, 0, 0, 0.3));\n",
              "      fill: #FFFFFF;\n",
              "    }\n",
              "  </style>\n",
              "\n",
              "      <script>\n",
              "        const buttonEl =\n",
              "          document.querySelector('#df-b2fd44f4-2fd3-4405-828b-2fb08f9293be button.colab-df-convert');\n",
              "        buttonEl.style.display =\n",
              "          google.colab.kernel.accessAllowed ? 'block' : 'none';\n",
              "\n",
              "        async function convertToInteractive(key) {\n",
              "          const element = document.querySelector('#df-b2fd44f4-2fd3-4405-828b-2fb08f9293be');\n",
              "          const dataTable =\n",
              "            await google.colab.kernel.invokeFunction('convertToInteractive',\n",
              "                                                     [key], {});\n",
              "          if (!dataTable) return;\n",
              "\n",
              "          const docLinkHtml = 'Like what you see? Visit the ' +\n",
              "            '<a target=\"_blank\" href=https://colab.research.google.com/notebooks/data_table.ipynb>data table notebook</a>'\n",
              "            + ' to learn more about interactive tables.';\n",
              "          element.innerHTML = '';\n",
              "          dataTable['output_type'] = 'display_data';\n",
              "          await google.colab.output.renderOutput(dataTable, element);\n",
              "          const docLink = document.createElement('div');\n",
              "          docLink.innerHTML = docLinkHtml;\n",
              "          element.appendChild(docLink);\n",
              "        }\n",
              "      </script>\n",
              "    </div>\n",
              "  </div>\n",
              "  "
            ]
          },
          "metadata": {},
          "execution_count": 2
        }
      ]
    },
    {
      "cell_type": "code",
      "source": [
        "dataX = np.reshape(dataX, (20, 1))\n",
        "dataY = np.reshape(dataY, (20, 1))\n",
        "dfX = pd.DataFrame(dataX)\n",
        "dfY = pd.DataFrame(dataY)\n",
        "model = LinearRegression().fit(dfX, dfY)"
      ],
      "metadata": {
        "id": "LyTsCIqtKJBW"
      },
      "execution_count": null,
      "outputs": []
    },
    {
      "cell_type": "markdown",
      "source": [
        "1. Найти корреляционную зависимость между фактором х и результирующим признаком у"
      ],
      "metadata": {
        "id": "sCOMfC1VKMh7"
      }
    },
    {
      "cell_type": "code",
      "source": [
        "print('b= ',model.coef_)\n",
        "print('a= ', model.intercept_)"
      ],
      "metadata": {
        "colab": {
          "base_uri": "https://localhost:8080/"
        },
        "id": "yBZ2qxXbKTWA",
        "outputId": "876740c1-8d8e-4f79-993a-c4ef836ba9fe"
      },
      "execution_count": null,
      "outputs": [
        {
          "output_type": "stream",
          "name": "stdout",
          "text": [
            "b=  [[1.59443807]]\n",
            "a=  [-20.96587156]\n"
          ]
        }
      ]
    },
    {
      "cell_type": "markdown",
      "source": [
        "2. На одном графике построить данные и теоритическую прямую"
      ],
      "metadata": {
        "id": "zukzpAXdKe5h"
      }
    },
    {
      "cell_type": "code",
      "source": [
        "plt.scatter(dataX, dataY)\n",
        "plt.plot(dataX, model.predict(dfX), 'r')\n",
        "plt.xlabel('родивщихся на 1000 чeловек насления (х)')\n",
        "plt.ylabel('естественный прирост на 1000 человек населения (у)')\n",
        "plt.show()"
      ],
      "metadata": {
        "colab": {
          "base_uri": "https://localhost:8080/",
          "height": 317
        },
        "id": "P2hv_cZ_Kge1",
        "outputId": "e8527abe-a0e1-49d2-a755-b7d0f6bb7655"
      },
      "execution_count": null,
      "outputs": [
        {
          "output_type": "display_data",
          "data": {
            "text/plain": [
              "<Figure size 432x288 with 1 Axes>"
            ],
            "image/png": "[encoded data removed]"
          },
          "metadata": {
            "needs_background": "light"
          }
        }
      ]
    },
    {
      "cell_type": "markdown",
      "source": [
        "3. найти коэфицинт вариации"
      ],
      "metadata": {
        "id": "M90pz1hSKoXy"
      }
    },
    {
      "cell_type": "code",
      "source": [
        "K_v = (math.sqrt(var(dfX)))/(mean(dfX))\n",
        "print(K_v)\n",
        "print('вариация считается однородной')"
      ],
      "metadata": {
        "colab": {
          "base_uri": "https://localhost:8080/"
        },
        "id": "xMtgRjcHKkyo",
        "outputId": "df2a0364-c4c6-401e-e440-5b46a87cffa0"
      },
      "execution_count": null,
      "outputs": [
        {
          "output_type": "stream",
          "name": "stdout",
          "text": [
            "0    0.121072\n",
            "dtype: float64\n",
            "вариация считается однородной\n"
          ]
        }
      ]
    },
    {
      "cell_type": "markdown",
      "source": [
        "4. найдем коэффициент корреляции"
      ],
      "metadata": {
        "id": "P17r0IxjK5rK"
      }
    },
    {
      "cell_type": "code",
      "source": [
        "cor = np.corrcoef(data)\n",
        "print('коэффицинт коррeляции= ',cor[1][0])\n",
        "corr = cor[1][0]"
      ],
      "metadata": {
        "colab": {
          "base_uri": "https://localhost:8080/"
        },
        "id": "IWHRCugBKuiJ",
        "outputId": "f1c84e4d-9d50-45c3-8cc4-fa3a7310bf71"
      },
      "execution_count": null,
      "outputs": [
        {
          "output_type": "stream",
          "name": "stdout",
          "text": [
            "коэффицинт коррeляции=  0.9042797122606165\n"
          ]
        }
      ]
    },
    {
      "cell_type": "markdown",
      "source": [
        "тесная связь между признаками"
      ],
      "metadata": {
        "id": "mMjIid4rLG9e"
      }
    },
    {
      "cell_type": "markdown",
      "source": [
        "5. Оценим точность модели"
      ],
      "metadata": {
        "id": "-KVt0Rt3LKTW"
      }
    },
    {
      "cell_type": "code",
      "source": [
        "data_2 = np.hstack((dataX, dataY))\n",
        "df_2 = pd.DataFrame(data_2)\n",
        "df_2.columns = ['x', 'y']\n",
        "df_2['y_predict'] = np.array(model.predict(dfX))\n",
        "df_2['A'] = abs((df_2['y']-df_2['y_predict'])/df_2['y'])\n",
        "df_2.loc[11]['A'] = 0\n",
        "A = df_2['A'].mean()\n",
        "print('точность модели = ', A)\n",
        "print('свидетельствует о хорошем подборе модели')"
      ],
      "metadata": {
        "colab": {
          "base_uri": "https://localhost:8080/"
        },
        "id": "oYY3BfDnLOhv",
        "outputId": "10646ac4-a790-4b37-8fb2-ab784fee8bdb"
      },
      "execution_count": null,
      "outputs": [
        {
          "output_type": "stream",
          "name": "stdout",
          "text": [
            "точность модели =  2.307042464264196\n",
            "свидетельствует о хорошем подборе модели\n"
          ]
        }
      ]
    },
    {
      "cell_type": "markdown",
      "source": [
        "6. Проведём дисперсионный анализ"
      ],
      "metadata": {
        "id": "lwal9iZnLW9c"
      }
    },
    {
      "cell_type": "code",
      "source": [
        "df_2['y_sum'] = (df_2['y'] - df_2['y'].mean())**2\n",
        "df_2['yp_sum'] = (df_2['y_predict'] - df_2['y'].mean())**2\n",
        "df_2['e2'] = (df_2['y_predict'] - df_2['y'])**2\n",
        "\n",
        "arr = np.array([df_2['y_sum'].sum(), df_2['yp_sum'].sum(), df_2['e2'].sum()])\n",
        "arr_2 = np.array([19, 1, 18])\n",
        "arr = np.reshape(arr, (3, 1))\n",
        "arr_2 = np.reshape(arr_2, (3, 1))\n",
        "arr_3 = np.hstack((arr, arr_2))\n",
        "df_3 = pd.DataFrame(arr_3, columns = ['сумма квадратов', 'число степеней свободы'], index = ['общая', 'факторная', 'остаточная'])\n",
        "df_3['диспесия на одну степень свободы'] = df_3['сумма квадратов']/df_3['число степеней свободы']\n",
        "df_3.head()"
      ],
      "metadata": {
        "colab": {
          "base_uri": "https://localhost:8080/",
          "height": 143
        },
        "id": "nqOCU15QLa7u",
        "outputId": "24744e8e-797f-4d98-a7e6-ca6192d277f8"
      },
      "execution_count": null,
      "outputs": [
        {
          "output_type": "execute_result",
          "data": {
            "text/plain": [
              "            сумма квадратов  число степеней свободы  \\\n",
              "общая            119.283095                    19.0   \n",
              "факторная         97.540387                     1.0   \n",
              "остаточная        21.742708                    18.0   \n",
              "\n",
              "            диспесия на одну степень свободы  \n",
              "общая                               6.278058  \n",
              "факторная                          97.540387  \n",
              "остаточная                          1.207928  "
            ],
            "text/html": [
              "\n",
              "  <div id=\"df-f61bd33b-9ade-463f-a418-ac315679c378\">\n",
              "    <div class=\"colab-df-container\">\n",
              "      <div>\n",
              "<style scoped>\n",
              "    .dataframe tbody tr th:only-of-type {\n",
              "        vertical-align: middle;\n",
              "    }\n",
              "\n",
              "    .dataframe tbody tr th {\n",
              "        vertical-align: top;\n",
              "    }\n",
              "\n",
              "    .dataframe thead th {\n",
              "        text-align: right;\n",
              "    }\n",
              "</style>\n",
              "<table border=\"1\" class=\"dataframe\">\n",
              "  <thead>\n",
              "    <tr style=\"text-align: right;\">\n",
              "      <th></th>\n",
              "      <th>сумма квадратов</th>\n",
              "      <th>число степеней свободы</th>\n",
              "      <th>диспесия на одну степень свободы</th>\n",
              "    </tr>\n",
              "  </thead>\n",
              "  <tbody>\n",
              "    <tr>\n",
              "      <th>общая</th>\n",
              "      <td>119.283095</td>\n",
              "      <td>19.0</td>\n",
              "      <td>6.278058</td>\n",
              "    </tr>\n",
              "    <tr>\n",
              "      <th>факторная</th>\n",
              "      <td>97.540387</td>\n",
              "      <td>1.0</td>\n",
              "      <td>97.540387</td>\n",
              "    </tr>\n",
              "    <tr>\n",
              "      <th>остаточная</th>\n",
              "      <td>21.742708</td>\n",
              "      <td>18.0</td>\n",
              "      <td>1.207928</td>\n",
              "    </tr>\n",
              "  </tbody>\n",
              "</table>\n",
              "</div>\n",
              "      <button class=\"colab-df-convert\" onclick=\"convertToInteractive('df-f61bd33b-9ade-463f-a418-ac315679c378')\"\n",
              "              title=\"Convert this dataframe to an interactive table.\"\n",
              "              style=\"display:none;\">\n",
              "        \n",
              "  <svg xmlns=\"http://www.w3.org/2000/svg\" height=\"24px\"viewBox=\"0 0 24 24\"\n",
              "       width=\"24px\">\n",
              "    <path d=\"M0 0h24v24H0V0z\" fill=\"none\"/>\n",
              "    <path d=\"M18.56 5.44l.94 2.06.94-2.06 2.06-.94-2.06-.94-.94-2.06-.94 2.06-2.06.94zm-11 1L8.5 8.5l.94-2.06 2.06-.94-2.06-.94L8.5 2.5l-.94 2.06-2.06.94zm10 10l.94 2.06.94-2.06 2.06-.94-2.06-.94-.94-2.06-.94 2.06-2.06.94z\"/><path d=\"M17.41 7.96l-1.37-1.37c-.4-.4-.92-.59-1.43-.59-.52 0-1.04.2-1.43.59L10.3 9.45l-7.72 7.72c-.78.78-.78 2.05 0 2.83L4 21.41c.39.39.9.59 1.41.59.51 0 1.02-.2 1.41-.59l7.78-7.78 2.81-2.81c.8-.78.8-2.07 0-2.86zM5.41 20L4 18.59l7.72-7.72 1.47 1.35L5.41 20z\"/>\n",
              "  </svg>\n",
              "      </button>\n",
              "      \n",
              "  <style>\n",
              "    .colab-df-container {\n",
              "      display:flex;\n",
              "      flex-wrap:wrap;\n",
              "      gap: 12px;\n",
              "    }\n",
              "\n",
              "    .colab-df-convert {\n",
              "      background-color: #E8F0FE;\n",
              "      border: none;\n",
              "      border-radius: 50%;\n",
              "      cursor: pointer;\n",
              "      display: none;\n",
              "      fill: #1967D2;\n",
              "      height: 32px;\n",
              "      padding: 0 0 0 0;\n",
              "      width: 32px;\n",
              "    }\n",
              "\n",
              "    .colab-df-convert:hover {\n",
              "      background-color: #E2EBFA;\n",
              "      box-shadow: 0px 1px 2px rgba(60, 64, 67, 0.3), 0px 1px 3px 1px rgba(60, 64, 67, 0.15);\n",
              "      fill: #174EA6;\n",
              "    }\n",
              "\n",
              "    [theme=dark] .colab-df-convert {\n",
              "      background-color: #3B4455;\n",
              "      fill: #D2E3FC;\n",
              "    }\n",
              "\n",
              "    [theme=dark] .colab-df-convert:hover {\n",
              "      background-color: #434B5C;\n",
              "      box-shadow: 0px 1px 3px 1px rgba(0, 0, 0, 0.15);\n",
              "      filter: drop-shadow(0px 1px 2px rgba(0, 0, 0, 0.3));\n",
              "      fill: #FFFFFF;\n",
              "    }\n",
              "  </style>\n",
              "\n",
              "      <script>\n",
              "        const buttonEl =\n",
              "          document.querySelector('#df-f61bd33b-9ade-463f-a418-ac315679c378 button.colab-df-convert');\n",
              "        buttonEl.style.display =\n",
              "          google.colab.kernel.accessAllowed ? 'block' : 'none';\n",
              "\n",
              "        async function convertToInteractive(key) {\n",
              "          const element = document.querySelector('#df-f61bd33b-9ade-463f-a418-ac315679c378');\n",
              "          const dataTable =\n",
              "            await google.colab.kernel.invokeFunction('convertToInteractive',\n",
              "                                                     [key], {});\n",
              "          if (!dataTable) return;\n",
              "\n",
              "          const docLinkHtml = 'Like what you see? Visit the ' +\n",
              "            '<a target=\"_blank\" href=https://colab.research.google.com/notebooks/data_table.ipynb>data table notebook</a>'\n",
              "            + ' to learn more about interactive tables.';\n",
              "          element.innerHTML = '';\n",
              "          dataTable['output_type'] = 'display_data';\n",
              "          await google.colab.output.renderOutput(dataTable, element);\n",
              "          const docLink = document.createElement('div');\n",
              "          docLink.innerHTML = docLinkHtml;\n",
              "          element.appendChild(docLink);\n",
              "        }\n",
              "      </script>\n",
              "    </div>\n",
              "  </div>\n",
              "  "
            ]
          },
          "metadata": {},
          "execution_count": 11
        }
      ]
    },
    {
      "cell_type": "markdown",
      "source": [
        "7. найдем коэффициент детерминации"
      ],
      "metadata": {
        "id": "qd-ULCP0Lj54"
      }
    },
    {
      "cell_type": "code",
      "source": [
        "k_r = arr[1]/arr[0]\n",
        "print('R^2= ', k_r[0])"
      ],
      "metadata": {
        "colab": {
          "base_uri": "https://localhost:8080/"
        },
        "id": "cEp_DL20LpDJ",
        "outputId": "2367b0f7-ee8e-44c7-a497-912dbd759284"
      },
      "execution_count": null,
      "outputs": [
        {
          "output_type": "stream",
          "name": "stdout",
          "text": [
            "R^2=  0.8177217980061438\n"
          ]
        }
      ]
    },
    {
      "cell_type": "markdown",
      "source": [
        "сила связи высока и уравнение регрессии хорошо подобрано"
      ],
      "metadata": {
        "id": "UrvaiqM-LtNt"
      }
    },
    {
      "cell_type": "markdown",
      "source": [
        "8. Проврим адекватность модели с помощью F-критерия Фишера"
      ],
      "metadata": {
        "id": "2vH0RSSGL5RT"
      }
    },
    {
      "cell_type": "code",
      "source": [
        "print((corr**2)/(1-corr**2)*18)"
      ],
      "metadata": {
        "colab": {
          "base_uri": "https://localhost:8080/"
        },
        "id": "_PPxBtyXL-My",
        "outputId": "a2ff9380-b6cd-4b11-b91f-ec3cf7c145fb"
      },
      "execution_count": null,
      "outputs": [
        {
          "output_type": "stream",
          "name": "stdout",
          "text": [
            "80.75015115963599\n"
          ]
        }
      ]
    },
    {
      "cell_type": "markdown",
      "source": [
        "Так как Fф>Fт(4,41387), то гипотеза Н0 о случайной природе оцениваемых характеристик отклоняется, и признается их статистическая значимость и надёжность уравнения регрессии"
      ],
      "metadata": {
        "id": "RahOczGNMCal"
      }
    },
    {
      "cell_type": "markdown",
      "source": [
        "10. Найдём доверительные интервалы для статистически важных параметров модели"
      ],
      "metadata": {
        "id": "javtVEgSMHRJ"
      }
    },
    {
      "cell_type": "code",
      "source": [
        "ttab = 3.23676\n",
        "dis = math.sqrt((((df_2['x'] - df_2['x'].mean())**2).sum())/20)\n",
        "b = (math.sqrt(df_3.loc['остаточная']['диспесия на одну степень свободы']))/(math.sqrt(20)*dis)\n",
        "print(model.coef_[0][0]-ttab*b,'<= b >=',model.coef_[0][0]+ttab*b)"
      ],
      "metadata": {
        "colab": {
          "base_uri": "https://localhost:8080/"
        },
        "id": "GZwIyiHWMQMP",
        "outputId": "1a294c68-9302-461a-ba4e-b22d11edb212"
      },
      "execution_count": null,
      "outputs": [
        {
          "output_type": "stream",
          "name": "stdout",
          "text": [
            "1.0201279353938473 <= b >= 2.1687482113951444\n"
          ]
        }
      ]
    },
    {
      "cell_type": "code",
      "source": [
        "df_2['x^2'] = df_2['x']**2\n",
        "x2_sum = math.sqrt(df_2['x^2'].sum())\n",
        "dis = math.sqrt((((df_2['y'] - df_2['y'].mean())**2).sum())/20)\n",
        "a = (x2_sum/(dis*20))*math.sqrt(df_3.loc['остаточная']['диспесия на одну степень свободы'])\n",
        "print(model.intercept_[0]-ttab*a,'<= a >=',model.intercept_[0]+ttab*a)"
      ],
      "metadata": {
        "colab": {
          "base_uri": "https://localhost:8080/"
        },
        "id": "9nigfOtWMTzQ",
        "outputId": "0326f395-f5c6-4c8a-f457-bc2c47764794"
      },
      "execution_count": null,
      "outputs": [
        {
          "output_type": "stream",
          "name": "stdout",
          "text": [
            "-24.7192950690236 <= a >= -17.212448050242465\n"
          ]
        }
      ]
    },
    {
      "cell_type": "markdown",
      "source": [
        "11. оценим точность прогноза, расчитав ошибку прогноза и его доверительный интервал"
      ],
      "metadata": {
        "id": "mhmPS5WKMYCt"
      }
    },
    {
      "cell_type": "code",
      "source": [
        "xp = 1.1 *df_2['x'].mean()\n",
        "yp = model.intercept_[0] + model.coef_[0][0]*xp\n",
        "df_2['(x-xpredict)2'] = (df_2['x'] - df_2['x'].mean())**2\n",
        "m_yp = dis*math.sqrt(1+(1/20)+(((xp-df_2['x'].mean())**2)/(df_2['(x-xpredict)2'].sum())))\n",
        "print(yp-ttab*m_yp,'<= y(xp) >=',yp+ttab*m_yp)"
      ],
      "metadata": {
        "colab": {
          "base_uri": "https://localhost:8080/"
        },
        "id": "rg9W7ltUMbeG",
        "outputId": "5b236e04-241a-44e2-e3fb-7091e35f0abc"
      },
      "execution_count": null,
      "outputs": [
        {
          "output_type": "stream",
          "name": "stdout",
          "text": [
            "-9.131876132048767 <= y(xp) >= 7.32895044397538\n"
          ]
        }
      ]
    },
    {
      "cell_type": "markdown",
      "source": [
        "12. Найдем доверительный интервал для инивидуальных значений зависимой переменной"
      ],
      "metadata": {
        "id": "j64HtIqkMh4r"
      }
    },
    {
      "cell_type": "code",
      "source": [
        "m_yx = math.sqrt((dis**2)*((1/20)+(((xp-df_2['x'].mean())**2)/(df_2['(x-xpredict)2'].sum()))))\n",
        "print(yp-ttab*m_yx,'<= Mx(y) >=',yp+ttab*m_yx)"
      ],
      "metadata": {
        "colab": {
          "base_uri": "https://localhost:8080/"
        },
        "id": "bAMcU0sgMjck",
        "outputId": "9defaef5-b17f-444e-e2a7-f03c3b5a4927"
      },
      "execution_count": null,
      "outputs": [
        {
          "output_type": "stream",
          "name": "stdout",
          "text": [
            "-3.193961044773613 <= Mx(y) >= 1.3910353567002263\n"
          ]
        }
      ]
    },
    {
      "cell_type": "markdown",
      "source": [
        "13. поверим удоветворяют ли остатки условию Гаусса-Маркова"
      ],
      "metadata": {
        "id": "OPkw7dG1MpgO"
      }
    },
    {
      "cell_type": "code",
      "source": [
        "df_2['e'] = df_2['y'] - df_2['y_predict']\n",
        "e = np.array(df_2['e'])\n",
        "e2 = np.array(df_2['e2'])\n",
        "e = np.reshape(e, (20, 1))\n",
        "e2 = np.reshape(e2, (20, 1))\n",
        "e = np.hstack((e, e2))\n",
        "e = pd.DataFrame(e, columns = ['e', 'e2'])\n",
        "gist = np.array([6, 9, 1, 2, 1])\n",
        "gis = np.array(['1', '2', '3', '4', '5'])\n",
        "sns.barplot(x=gis, y=gist)"
      ],
      "metadata": {
        "colab": {
          "base_uri": "https://localhost:8080/",
          "height": 282
        },
        "id": "MMqDMlIsMrpw",
        "outputId": "d364e969-0fb1-4a6d-e48a-bd125b7050ec"
      },
      "execution_count": null,
      "outputs": [
        {
          "output_type": "execute_result",
          "data": {
            "text/plain": [
              "<matplotlib.axes._subplots.AxesSubplot at 0x7f0d2d7daed0>"
            ]
          },
          "metadata": {},
          "execution_count": 18
        },
        {
          "output_type": "display_data",
          "data": {
            "text/plain": [
              "<Figure size 432x288 with 1 Axes>"
            ],
            "image/png": "[encoded data removed]"
          },
          "metadata": {
            "needs_background": "light"
          }
        }
      ]
    },
    {
      "cell_type": "markdown",
      "source": [
        "по RS-критеррию поверим соответсвие ряда остатков нормальному закону"
      ],
      "metadata": {
        "id": "Kdmz0AM-Mx7Q"
      }
    },
    {
      "cell_type": "code",
      "source": [
        "S = math.sqrt(df_2['e2'].sum()/19)\n",
        "RS = (df_2['e'].max() - df_2['e'].min())/S\n",
        "print('RS= ', RS)"
      ],
      "metadata": {
        "colab": {
          "base_uri": "https://localhost:8080/"
        },
        "id": "8D-ZVa7mM3U-",
        "outputId": "7374108e-e753-49d0-873f-733c08b54187"
      },
      "execution_count": null,
      "outputs": [
        {
          "output_type": "stream",
          "name": "stdout",
          "text": [
            "RS=  3.8882595238456825\n"
          ]
        }
      ]
    },
    {
      "cell_type": "markdown",
      "source": [
        "По таблице а=3,18 b=4,49 не принимается гипотеза о соответсвии ряда норрмальному закону\n",
        "\n",
        "\n",
        "\n"
      ],
      "metadata": {
        "id": "DNVAqQtyM6dn"
      }
    },
    {
      "cell_type": "markdown",
      "source": [
        "Теперь проверим случайнасть элементов ряда остатков"
      ],
      "metadata": {
        "id": "Ax0ZhrJnNQos"
      }
    },
    {
      "cell_type": "code",
      "source": [
        "p = 0\n",
        "i = 1\n",
        "ar = np.array(df_2['e'])\n",
        "while i<20:\n",
        "    if (ar[i]*ar[i-1]) < 0 :\n",
        "        p += 1\n",
        "    i += 1\n",
        "\n",
        "pp = (((2*18)/3)-1.96*(math.sqrt((16*20-29)/90)))\n",
        "print('p= ', p, ' < ', pp)"
      ],
      "metadata": {
        "colab": {
          "base_uri": "https://localhost:8080/"
        },
        "id": "ZaPSwo6jNDfo",
        "outputId": "5e8c95a3-0444-4e1e-f13f-2b471222f97a"
      },
      "execution_count": null,
      "outputs": [
        {
          "output_type": "stream",
          "name": "stdout",
          "text": [
            "p=  4  <  8.475631498646411\n"
          ]
        }
      ]
    },
    {
      "cell_type": "markdown",
      "source": [
        "ряд не является случайным"
      ],
      "metadata": {
        "id": "GceSmvyONSl2"
      }
    },
    {
      "cell_type": "markdown",
      "source": [
        "Провeрим, есть ли автокорреляция"
      ],
      "metadata": {
        "id": "AT5_vMibNVRn"
      }
    },
    {
      "cell_type": "code",
      "source": [
        "i = 1\n",
        "s = 0\n",
        "while i<20:\n",
        "    s = s + ((ar[i]-ar[i-1])**2)\n",
        "    i += 1\n",
        "print('0< ',s/(e['e2'].sum()),' <=1,2')"
      ],
      "metadata": {
        "colab": {
          "base_uri": "https://localhost:8080/"
        },
        "id": "9XCF6UKWNX9W",
        "outputId": "86f0e91f-84a7-4bfd-c8ec-58aaae5c863a"
      },
      "execution_count": null,
      "outputs": [
        {
          "output_type": "stream",
          "name": "stdout",
          "text": [
            "0<  0.4634378308681657  <=1,2\n"
          ]
        }
      ]
    },
    {
      "cell_type": "markdown",
      "source": [
        "уровни остатков сильно автокорелированные и медель неадекватна"
      ],
      "metadata": {
        "id": "7XgxT-WONh1g"
      }
    },
    {
      "cell_type": "markdown",
      "source": [
        "проведем тест Голдфельда Квандта на обнаружние гетероскедантичности"
      ],
      "metadata": {
        "id": "gp9m3PnFNkzb"
      }
    },
    {
      "cell_type": "code",
      "source": [
        "testg, testg1 = np.array_split(np.array(df_2['x']),2)\n",
        "testg2, testg3 = np.array_split(np.array(df_2['y']),2)\n",
        "test = np.reshape(testg, (10, 1))\n",
        "test1 = np.reshape(testg1, (10, 1))\n",
        "test2 = np.reshape(testg2, (10, 1))\n",
        "test3 = np.reshape(testg3, (10, 1))\n",
        "test_g = pd.DataFrame(np.hstack((test,test2)), columns = ['x', 'y'])\n",
        "test_g1 = pd.DataFrame(np.hstack((test1, test3)), columns = ['x', 'y'])\n",
        "reg = LinearRegression().fit(test, test2)\n",
        "test_g['predict'] = np.array(reg.predict(test))\n",
        "test_g['r'] = (test_g['y'] - test_g['predict'])**2\n",
        "reg1 = LinearRegression().fit(test1, test3)\n",
        "test_g1['predict'] = np.array(reg1.predict(test1))\n",
        "test_g1['r'] = (test_g1['y'] - test_g1['predict'])**2\n",
        "f_nab = test_g1['r'].sum()/test_g['r'].sum()\n",
        "print('Фнабл = ', f_nab, ' < Фтабл(4.96), гетероскедастичность имеет место быть ')"
      ],
      "metadata": {
        "colab": {
          "base_uri": "https://localhost:8080/"
        },
        "id": "neKhGSr9NpTh",
        "outputId": "7b4dc7bc-2d45-4e80-d808-bdbcff65ed6c"
      },
      "execution_count": null,
      "outputs": [
        {
          "output_type": "stream",
          "name": "stdout",
          "text": [
            "Фнабл =  1.9519036670199792  < Фтабл(4.96), гетероскедастичность имеет место быть \n"
          ]
        }
      ]
    },
    {
      "cell_type": "markdown",
      "source": [
        "14. Вычислим коэффицинт эластичности"
      ],
      "metadata": {
        "id": "XDVrrHdRN0Nt"
      }
    },
    {
      "cell_type": "code",
      "source": [
        "el = model.coef_[0][0]*df_2['x'].mean()/df_2['y'].mean()\n",
        "print('коэфициент эластичности = ', el)"
      ],
      "metadata": {
        "colab": {
          "base_uri": "https://localhost:8080/"
        },
        "id": "okBzPY7iN146",
        "outputId": "63d9c0aa-a22b-4c36-de44-d19c6619b447"
      },
      "execution_count": null,
      "outputs": [
        {
          "output_type": "stream",
          "name": "stdout",
          "text": [
            "коэфициент эластичности =  -6.692486354662642\n"
          ]
        }
      ]
    },
    {
      "cell_type": "markdown",
      "source": [
        "при измeнение X на 1% от своего значения y изменится более чем на 1%. Другими словами - x существенно влияет на y"
      ],
      "metadata": {
        "id": "Xb2jWGWqN5Cq"
      }
    }
  ]
}